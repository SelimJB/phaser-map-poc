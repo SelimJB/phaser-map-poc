{
 "cells": [
  {
   "cell_type": "code",
   "execution_count": null,
   "metadata": {},
   "outputs": [],
   "source": [
    "import sys\n",
    "sys.path.append('./scripts/src/')\n",
    "\n",
    "import numpy as np\n",
    "import os\n",
    "\n",
    "from utils import show\n",
    "import utils as ut\n",
    "import image_processes as imgp\n",
    "import map_processes as mapp\n",
    "import cv2\n",
    "import os\n",
    "import numpy as np\n",
    "from skimage.util import invert\n",
    "from skimage.io import imread\n",
    "import post_processes as pp\n",
    "\n",
    "%load_ext autoreload\n",
    "%autoreload 2"
   ]
  },
  {
   "cell_type": "code",
   "execution_count": 35,
   "metadata": {},
   "outputs": [],
   "source": [
    "input = \"border1.png\"\n",
    "project_name = os.path.basename(input).split('.')[0]\n",
    "input_path = 'scripts/inputs'\n",
    "output_path = 'scripts/outputs/' + project_name\n",
    "current_dir = os.getcwd()\n",
    "img_path = os.path.join(current_dir, input_path, input)\n",
    "\n",
    "if not os.path.exists(output_path):\n",
    "    os.makedirs(output_path)\n",
    "\n",
    "def get_path(filename):\n",
    "    return os.path.join(current_dir, output_path, filename)\n"
   ]
  },
  {
   "cell_type": "code",
   "execution_count": 36,
   "metadata": {},
   "outputs": [],
   "source": [
    "# as_gray to be able to get height and width with shape\n",
    "image = imread(img_path, as_gray=True)\n",
    "height, width = image.shape\n",
    " \n",
    "img_to_display = (image * 255).astype(np.uint8)\n",
    "# show(img_to_display)"
   ]
  },
  {
   "cell_type": "code",
   "execution_count": null,
   "metadata": {},
   "outputs": [],
   "source": [
    "quantization_config = mapp.QuantizationConfig(5, False)\n",
    "quantization_config.show()"
   ]
  },
  {
   "cell_type": "code",
   "execution_count": null,
   "metadata": {},
   "outputs": [],
   "source": [
    "# Convert artist skeleton to bool image\n",
    "skeleton = cv2.imread(img_path, cv2.IMREAD_UNCHANGED)\n",
    "print(\"Skeleton shape:\", skeleton.shape)\n",
    "\n",
    "has_alpha = skeleton.shape[2] == 4\n",
    "\n",
    "# print shape\n",
    "print(skeleton.shape)\n",
    "\n",
    "if has_alpha:\n",
    "    mask = skeleton[:, :, 3] == 0\n",
    "    skeleton[mask, 0:3] = [255, 255, 255]\n",
    "    skeleton[~mask, 0:3] = [0, 0, 0]\n",
    "else :\n",
    "    mask = np.all(skeleton == [255, 255, 255], axis=-1)\n",
    "    skeleton = np.zeros_like(skeleton)\n",
    "    skeleton[mask] = [255, 255, 255]\n",
    "\n",
    "skeleton = imgp.convert_image_to_grayscale(skeleton, False)\n",
    "skeleton = skeleton.astype(bool)\n",
    "\n",
    "if image.dtype != np.uint8:\n",
    "    image = (image * 255).astype(np.uint8)\n",
    "\n",
    "show(skeleton)\n"
   ]
  },
  {
   "cell_type": "code",
   "execution_count": null,
   "metadata": {},
   "outputs": [],
   "source": [
    "# CREATE THICK BORDER MAP FROM ARTIST SKELETON FOR CONTOUR DETECTION\n",
    "invertedSkeleton = invert(skeleton)\n",
    "color = imgp.hex_to_rgba(\"#000000\")\n",
    "border_map = imgp.thickening(invertedSkeleton, 2, 1, 80, color, False, False)\n",
    "\n",
    "# Convert to usable format\n",
    "mask = border_map[:, :, 3] == 0\n",
    "border_map[mask, 0:3] = [255, 255, 255]\n",
    "border_map = cv2.cvtColor(border_map, cv2.COLOR_BGRA2BGR)\n",
    "\n",
    "border_map = imgp.convert_image_to_grayscale(border_map, True)\n",
    "\n",
    "# Save\n",
    "ut.save_cv_image(output_path, project_name + \"_debug_thick_skeleton.png\", border_map)"
   ]
  },
  {
   "cell_type": "code",
   "execution_count": null,
   "metadata": {},
   "outputs": [],
   "source": [
    "# Estimate region count / get contours\n",
    "# With post process\n",
    "(\n",
    "    contours,\n",
    "    points,\n",
    "    shape_informations,\n",
    "    duplicated_contours,\n",
    ") = imgp.extract_refined_contour_info(\n",
    "    border_map,\n",
    "    2,\n",
    "    cv2.RETR_TREE,\n",
    "    verbose=False,\n",
    "    treshold_contour_distance=10,\n",
    "    min_contour_area=50,\n",
    "    enable_duplicate_island_provinces_post_process=True,\n",
    "    enable_small_provinces_post_process=True,\n",
    ")\n",
    "\n",
    "\n",
    "# Debug duplicate islands\n",
    "duplicated_island_debug_map = mapp.debug_duplicated_islands(\n",
    "    skeleton, duplicated_contours, False\n",
    ")\n",
    "cv2.imwrite(get_path(project_name+\"_debug_duplicated_island_map.png\"),\n",
    "            duplicated_island_debug_map)"
   ]
  },
  {
   "cell_type": "code",
   "execution_count": 41,
   "metadata": {},
   "outputs": [],
   "source": [
    "# Calculate shape informations\n",
    "enclosed_circles_img, ellipses_img, centers_img = mapp.generate_debug_shape_images(\n",
    "    shape_informations, skeleton\n",
    ")\n",
    "\n",
    "# show(enclosed_circles_img)\n",
    "# show(ellipses_img)\n",
    "# show(centers_img)\n",
    "\n",
    "ut.save_cv_image(output_path, project_name+\"_debug_enclosed_circles.png\", enclosed_circles_img)\n",
    "ut.save_cv_image(output_path, project_name+\"_debug_ellipses.png\", ellipses_img)\n",
    "ut.save_cv_image(output_path, project_name+\"_debug_centers.png\", centers_img)"
   ]
  },
  {
   "cell_type": "code",
   "execution_count": 42,
   "metadata": {},
   "outputs": [],
   "source": [
    "# Find adjacent provinces\n",
    "adjacency_list = mapp.find_adjacent_provinces(contours)"
   ]
  },
  {
   "cell_type": "code",
   "execution_count": null,
   "metadata": {},
   "outputs": [],
   "source": [
    "# Draw contours\n",
    "filled_image = imgp.draw_contours(skeleton, contours, False)\n",
    "# Test filling\n",
    "filled_image2 = imgp.fill_contours(skeleton, filled_image, points, True, shape_informations, True)\n",
    "# Check for holls in the script generated skeleton :\n",
    "#   -   if two neighbors have the same color, then there is a holl\n",
    "#   -   if the color of a same province is different in the two images -> may be a problem -> investigate\n",
    "ut.save_cv_image(output_path, project_name+'_debug_holl_check_map_contour.png', filled_image)\n",
    "ut.save_cv_image(output_path, project_name+'_debug_holl_check_map.png', filled_image2)"
   ]
  },
  {
   "cell_type": "code",
   "execution_count": null,
   "metadata": {},
   "outputs": [],
   "source": [
    "# Draw bitmap and create province data views\n",
    "province_data_views, map_colors, map_debug = mapp.do_map_quantization(\n",
    "    skeleton, points, shape_informations, False, True, quantization_config=quantization_config, font_size=0.27)\n",
    "\n",
    "cv2.imwrite(get_path(project_name+\"_bitmap_whitelines.png\"),\n",
    "            cv2.cvtColor(map_colors, cv2.COLOR_BGR2RGB))\n",
    "\n",
    "if map_debug is not None:\n",
    "    cv2.imwrite(get_path(project_name+\"_bitmap_debug.png\"),\n",
    "                cv2.cvtColor(map_debug, cv2.COLOR_BGR2RGB))"
   ]
  },
  {
   "cell_type": "code",
   "execution_count": 45,
   "metadata": {},
   "outputs": [],
   "source": [
    "# Create Provinces Json\n",
    "provinces = mapp.create_province_json(province_data_views)\n",
    "ut.write_json(provinces, output_path, project_name + \"_provinces_raw\")"
   ]
  },
  {
   "cell_type": "code",
   "execution_count": null,
   "metadata": {},
   "outputs": [],
   "source": [
    "# Remove white lines\n",
    "# TODO : improve handling of black points (can currently induce irregularities in the lines)\n",
    "# Be sure that there is no black background in the bitmap input\n",
    "bitmap_raw = mapp.remove_white_lines_from_color_map(map_colors)\n",
    "\n",
    "show(bitmap_raw)\n",
    "cv2.imwrite(\n",
    "    get_path(project_name+\"_bitmap_raw.png\"),\n",
    "    cv2.cvtColor(bitmap_raw, cv2.COLOR_BGR2RGB),\n",
    ")"
   ]
  },
  {
   "cell_type": "code",
   "execution_count": null,
   "metadata": {},
   "outputs": [],
   "source": [
    "# Detect fake provinces\n",
    "fake_provinces_ids = pp.find_fake_provinces(bitmap_raw, province_data_views, quantization_config).tolist()\n",
    "print(fake_provinces_ids)\n",
    "ut.write_json(fake_provinces_ids, output_path, \"fake_provinces\", False)"
   ]
  },
  {
   "cell_type": "code",
   "execution_count": 48,
   "metadata": {},
   "outputs": [],
   "source": [
    "# Get neighbors from fake provinces (are likely to be real litoral provinces)\n",
    "fake_province_neighbors = []\n",
    "\n",
    "fake_provinces = [\n",
    "    province for province in province_data_views if province.id in fake_provinces_ids\n",
    "]\n",
    "\n",
    "for province in fake_provinces:\n",
    "    fake_province_neighbors.extend(province.landNeighbours)\n"
   ]
  },
  {
   "cell_type": "code",
   "execution_count": null,
   "metadata": {},
   "outputs": [],
   "source": [
    "# Clean data: remove fake provinces\n",
    "province_data_pp1 = pp.remove_ids_from_provinces_list(fake_provinces_ids, province_data_views, True, True)\n",
    "print(len(province_data_views), len(province_data_pp1))"
   ]
  },
  {
   "cell_type": "code",
   "execution_count": null,
   "metadata": {},
   "outputs": [],
   "source": [
    "# CREATE BORDER MAP AS A GAME ASSET\n",
    "invertedSkeleton = invert(skeleton)\n",
    "color = imgp.hex_to_rgba(\"#151515\")\n",
    "asset_border_map = imgp.thickening(invertedSkeleton, 2, 3, 80, color, True, False)\n",
    "# Add skeleton on top of asset_border_map\n",
    "# TODO\n",
    "ut.save_cv_image(output_path, project_name + \"_map_borders_generated.png\", asset_border_map)"
   ]
  },
  {
   "cell_type": "code",
   "execution_count": 51,
   "metadata": {},
   "outputs": [],
   "source": [
    "# Generate debug map\n",
    "mask = imgp.create_blank_image(width, height, (60, 20, 90, 255))\n",
    "ut.save_cv_image(output_path, project_name + \"_map_debug.png\", mask)"
   ]
  },
  {
   "cell_type": "code",
   "execution_count": null,
   "metadata": {},
   "outputs": [],
   "source": []
  }
 ],
 "metadata": {
  "kernelspec": {
   "display_name": "Python 3",
   "language": "python",
   "name": "python3"
  },
  "language_info": {
   "codemirror_mode": {
    "name": "ipython",
    "version": 3
   },
   "file_extension": ".py",
   "mimetype": "text/x-python",
   "name": "python",
   "nbconvert_exporter": "python",
   "pygments_lexer": "ipython3",
   "version": "3.9.6"
  }
 },
 "nbformat": 4,
 "nbformat_minor": 2
}
